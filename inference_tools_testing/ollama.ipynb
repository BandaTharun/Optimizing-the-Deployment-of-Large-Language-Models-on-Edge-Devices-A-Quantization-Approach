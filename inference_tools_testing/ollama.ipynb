{
 "cells": [
  {
   "cell_type": "code",
   "execution_count": 7,
   "metadata": {},
   "outputs": [
    {
     "name": "stdout",
     "output_type": "stream",
     "text": [
      "ctransformars.ipynb  langchain.ipynb\n",
      "lammafileapi.ipynb   ollama.ipynb\n"
     ]
    }
   ],
   "source": [
    "ls "
   ]
  },
  {
   "cell_type": "code",
   "execution_count": 1,
   "metadata": {},
   "outputs": [
    {
     "name": "stdout",
     "output_type": "stream",
     "text": [
      "NAME          \tID          \tSIZE  \tMODIFIED    \n",
      "llama2:latest \t78e26419b446\t3.8 GB\t4 weeks ago\t\n",
      "mistral:latest\t56647ec7e641\t2.7 GB\t3 weeks ago\t\n"
     ]
    }
   ],
   "source": [
    "\n",
    "!ollama list "
   ]
  },
  {
   "cell_type": "code",
   "execution_count": 17,
   "metadata": {},
   "outputs": [
    {
     "name": "stdout",
     "output_type": "stream",
     "text": [
      "\u001b[?25ltransferring model data \n",
      "creating model layer ⠋ \u001b[?25h\u001b[?25l\u001b[2K\u001b[1G\u001b[A\u001b[2K\u001b[1Gtransferring model data \n",
      "creating model layer ⠙ \u001b[?25h\u001b[?25l\u001b[2K\u001b[1G\u001b[A\u001b[2K\u001b[1Gtransferring model data \n",
      "creating model layer ⠹ \u001b[?25h\u001b[?25l\u001b[2K\u001b[1G\u001b[A\u001b[2K\u001b[1Gtransferring model data \n",
      "creating model layer ⠸ \u001b[?25h\u001b[?25l\u001b[2K\u001b[1G\u001b[A\u001b[2K\u001b[1Gtransferring model data \n",
      "creating model layer ⠼ \u001b[?25h\u001b[?25l\u001b[2K\u001b[1G\u001b[A\u001b[2K\u001b[1Gtransferring model data \n",
      "creating model layer ⠴ \u001b[?25h\u001b[?25l\u001b[2K\u001b[1G\u001b[A\u001b[2K\u001b[1Gtransferring model data \n",
      "creating model layer ⠦ \u001b[?25h\u001b[?25l\u001b[2K\u001b[1G\u001b[A\u001b[2K\u001b[1Gtransferring model data \n",
      "creating model layer ⠧ \u001b[?25h\u001b[?25l\u001b[2K\u001b[1G\u001b[A\u001b[2K\u001b[1Gtransferring model data \n",
      "creating model layer ⠇ \u001b[?25h\u001b[?25l\u001b[2K\u001b[1G\u001b[A\u001b[2K\u001b[1Gtransferring model data \n",
      "creating model layer ⠏ \u001b[?25h\u001b[?25l\u001b[2K\u001b[1G\u001b[A\u001b[2K\u001b[1Gtransferring model data \n",
      "creating model layer ⠋ \u001b[?25h\u001b[?25l\u001b[2K\u001b[1G\u001b[A\u001b[2K\u001b[1Gtransferring model data \n",
      "creating model layer ⠙ \u001b[?25h\u001b[?25l\u001b[2K\u001b[1G\u001b[A\u001b[2K\u001b[1Gtransferring model data \n",
      "creating model layer ⠹ \u001b[?25h\u001b[?25l\u001b[2K\u001b[1G\u001b[A\u001b[2K\u001b[1Gtransferring model data \n",
      "creating model layer ⠸ \u001b[?25h\u001b[?25l\u001b[2K\u001b[1G\u001b[A\u001b[2K\u001b[1Gtransferring model data \n",
      "creating model layer ⠼ \u001b[?25h\u001b[?25l\u001b[2K\u001b[1G\u001b[A\u001b[2K\u001b[1Gtransferring model data \n",
      "creating model layer ⠴ \u001b[?25h\u001b[?25l\u001b[2K\u001b[1G\u001b[A\u001b[2K\u001b[1Gtransferring model data \n",
      "creating model layer ⠦ \u001b[?25h\u001b[?25l\u001b[2K\u001b[1G\u001b[A\u001b[2K\u001b[1Gtransferring model data \n",
      "creating model layer ⠧ \u001b[?25h\u001b[?25l\u001b[2K\u001b[1G\u001b[A\u001b[2K\u001b[1Gtransferring model data \n",
      "creating model layer ⠇ \u001b[?25h\u001b[?25l\u001b[2K\u001b[1G\u001b[A\u001b[2K\u001b[1Gtransferring model data \n",
      "creating model layer ⠏ \u001b[?25h\u001b[?25l\u001b[2K\u001b[1G\u001b[A\u001b[2K\u001b[1Gtransferring model data \n",
      "creating model layer ⠋ \u001b[?25h\u001b[?25l\u001b[2K\u001b[1G\u001b[A\u001b[2K\u001b[1Gtransferring model data \n",
      "creating model layer ⠙ \u001b[?25h\u001b[?25l\u001b[2K\u001b[1G\u001b[A\u001b[2K\u001b[1Gtransferring model data \n",
      "creating model layer ⠹ \u001b[?25h\u001b[?25l\u001b[2K\u001b[1G\u001b[A\u001b[2K\u001b[1Gtransferring model data \n",
      "creating model layer ⠸ \u001b[?25h\u001b[?25l\u001b[2K\u001b[1G\u001b[A\u001b[2K\u001b[1Gtransferring model data \n",
      "creating model layer ⠼ \u001b[?25h\u001b[?25l\u001b[2K\u001b[1G\u001b[A\u001b[2K\u001b[1Gtransferring model data \n",
      "creating model layer ⠴ \u001b[?25h\u001b[?25l\u001b[2K\u001b[1G\u001b[A\u001b[2K\u001b[1Gtransferring model data \n",
      "creating model layer ⠦ \u001b[?25h\u001b[?25l\u001b[2K\u001b[1G\u001b[A\u001b[2K\u001b[1Gtransferring model data \n",
      "creating model layer ⠧ \u001b[?25h\u001b[?25l\u001b[2K\u001b[1G\u001b[A\u001b[2K\u001b[1Gtransferring model data \n",
      "creating model layer ⠇ \u001b[?25h\u001b[?25l\u001b[2K\u001b[1G\u001b[A\u001b[2K\u001b[1Gtransferring model data \n",
      "creating model layer ⠏ \u001b[?25h\u001b[?25l\u001b[2K\u001b[1G\u001b[A\u001b[2K\u001b[1Gtransferring model data \n",
      "creating model layer ⠋ \u001b[?25h\u001b[?25l\u001b[2K\u001b[1G\u001b[A\u001b[2K\u001b[1Gtransferring model data \n",
      "creating model layer ⠙ \u001b[?25h\u001b[?25l\u001b[2K\u001b[1G\u001b[A\u001b[2K\u001b[1Gtransferring model data \n",
      "creating model layer ⠹ \u001b[?25h\u001b[?25l\u001b[2K\u001b[1G\u001b[A\u001b[2K\u001b[1Gtransferring model data \n",
      "creating model layer ⠸ \u001b[?25h\u001b[?25l\u001b[2K\u001b[1G\u001b[A\u001b[2K\u001b[1Gtransferring model data \n",
      "creating model layer ⠼ \u001b[?25h\u001b[?25l\u001b[2K\u001b[1G\u001b[A\u001b[2K\u001b[1Gtransferring model data \n",
      "creating model layer ⠴ \u001b[?25h\u001b[?25l\u001b[2K\u001b[1G\u001b[A\u001b[2K\u001b[1Gtransferring model data \n",
      "creating model layer ⠦ \u001b[?25h\u001b[?25l\u001b[2K\u001b[1G\u001b[A\u001b[2K\u001b[1Gtransferring model data \n",
      "creating model layer ⠧ \u001b[?25h\u001b[?25l\u001b[2K\u001b[1G\u001b[A\u001b[2K\u001b[1Gtransferring model data \n",
      "creating model layer ⠇ \u001b[?25h\u001b[?25l\u001b[2K\u001b[1G\u001b[A\u001b[2K\u001b[1Gtransferring model data \n",
      "creating model layer ⠏ \u001b[?25h\u001b[?25l\u001b[2K\u001b[1G\u001b[A\u001b[2K\u001b[1Gtransferring model data \n",
      "creating model layer ⠋ \u001b[?25h\u001b[?25l\u001b[2K\u001b[1G\u001b[A\u001b[2K\u001b[1Gtransferring model data \n",
      "creating model layer ⠙ \u001b[?25h\u001b[?25l\u001b[2K\u001b[1G\u001b[A\u001b[2K\u001b[1Gtransferring model data \n",
      "creating model layer ⠹ \u001b[?25h\u001b[?25l\u001b[2K\u001b[1G\u001b[A\u001b[2K\u001b[1Gtransferring model data \n",
      "creating model layer ⠸ \u001b[?25h\u001b[?25l\u001b[2K\u001b[1G\u001b[A\u001b[2K\u001b[1Gtransferring model data \n",
      "creating model layer \n",
      "creating template layer \n",
      "writing layer sha256:6c699d0592086c7352047ce3e2e657acd6390b2cdb445f9a0ee6577742126a6b \n",
      "writing layer sha256:68693db5eb3e0501c644080a545730fc93d2ca2dfddf03633642b99f3a1f0e3c \n",
      "writing layer sha256:f76590d7267697e57b2b71e45657417192b3231955f4f947c76b2da85967300a \n",
      "writing manifest \n",
      "success \u001b[?25h\n"
     ]
    }
   ],
   "source": [
    "! ollama create mistral -f /Users/Tharun/llms/Modelfile\n"
   ]
  },
  {
   "cell_type": "code",
   "execution_count": 18,
   "metadata": {},
   "outputs": [
    {
     "name": "stdout",
     "output_type": "stream",
     "text": [
      "NAME          \tID          \tSIZE  \tMODIFIED       \n",
      "llama2:latest \t78e26419b446\t3.8 GB\t7 days ago    \t\n",
      "mistral:latest\t56647ec7e641\t2.7 GB\t12 seconds ago\t\n"
     ]
    }
   ],
   "source": [
    "!ollama list "
   ]
  },
  {
   "cell_type": "code",
   "execution_count": 19,
   "metadata": {},
   "outputs": [
    {
     "name": "stdout",
     "output_type": "stream",
     "text": [
      "\u001b[?25l⠙ \u001b[?25h\u001b[?25l\u001b[2K\u001b[1G⠹ \u001b[?25h\u001b[?25l\u001b[2K\u001b[1G⠸ \u001b[?25h\u001b[?25l\u001b[2K\u001b[1G⠼ \u001b[?25h\u001b[?25l\u001b[2K\u001b[1G⠴ \u001b[?25h\u001b[?25l\u001b[2K\u001b[1G⠦ \u001b[?25h\u001b[?25l\u001b[2K\u001b[1G⠦ \u001b[?25h\u001b[?25l\u001b[2K\u001b[1G⠇ \u001b[?25h\u001b[?25l\u001b[2K\u001b[1G⠏ \u001b[?25h\u001b[?25l\u001b[2K\u001b[1G⠋ \u001b[?25h\u001b[?25l\u001b[2K\u001b[1G⠙ \u001b[?25h\u001b[?25l\u001b[2K\u001b[1G⠹ \u001b[?25h\u001b[?25l\u001b[2K\u001b[1G⠸ \u001b[?25h\u001b[?25l\u001b[2K\u001b[1G⠸ \u001b[?25h\u001b[?25l\u001b[2K\u001b[1G⠴ \u001b[?25h\u001b[?25l\u001b[2K\u001b[1G⠦ \u001b[?25h\u001b[?25l\u001b[2K\u001b[1G⠧ \u001b[?25h\u001b[?25l\u001b[2K\u001b[1G⠇ \u001b[?25h\u001b[?25l\u001b[2K\u001b[1G⠏ \u001b[?25h\u001b[?25l\u001b[2K\u001b[1G⠋ \u001b[?25h\u001b[?25l\u001b[2K\u001b[1G⠙ \u001b[?25h\u001b[?25l\u001b[2K\u001b[1G⠹ \u001b[?25h\u001b[?25l\u001b[2K\u001b[1G⠹ \u001b[?25h\u001b[?25l\u001b[2K\u001b[1G⠼ \u001b[?25h\u001b[?25l\u001b[2K\u001b[1G⠴ \u001b[?25h\u001b[?25l\u001b[2K\u001b[1G⠦ \u001b[?25h\u001b[?25l\u001b[2K\u001b[1G⠧ \u001b[?25h\u001b[?25l\u001b[2K\u001b[1G⠧ \u001b[?25h\u001b[?25l\u001b[2K\u001b[1G⠏ \u001b[?25h\u001b[?25l\u001b[2K\u001b[1G⠋ \u001b[?25h\u001b[?25l\u001b[2K\u001b[1G⠙ \u001b[?25h\u001b[?25l\u001b[2K\u001b[1G⠙ \u001b[?25h\u001b[?25l\u001b[2K\u001b[1G⠸ \u001b[?25h\u001b[?25l\u001b[2K\u001b[1G⠼ \u001b[?25h\u001b[?25l\u001b[2K\u001b[1G⠼ \u001b[?25h\u001b[?25l\u001b[2K\u001b[1G⠦ \u001b[?25h\u001b[?25l\u001b[2K\u001b[1G⠧ \u001b[?25h\u001b[?25l\u001b[2K\u001b[1G⠇ \u001b[?25h\u001b[?25l\u001b[2K\u001b[1G⠇ \u001b[?25h\u001b[?25l\u001b[2K\u001b[1G⠋ \u001b[?25h\u001b[?25l\u001b[2K\u001b[1G⠙ \u001b[?25h\u001b[?25l\u001b[2K\u001b[1G⠹ \u001b[?25h\u001b[?25l\u001b[2K\u001b[1G⠸ \u001b[?25h\u001b[?25l\u001b[2K\u001b[1G⠼ \u001b[?25h\u001b[?25l\u001b[2K\u001b[1G⠴ \u001b[?25h\u001b[?25l\u001b[2K\u001b[1G⠦ \u001b[?25h\u001b[?25l\u001b[2K\u001b[1G⠧ \u001b[?25h\u001b[?25l\u001b[2K\u001b[1G⠧ \u001b[?25h\u001b[?25l\u001b[2K\u001b[1G⠏ \u001b[?25h\u001b[?25l\u001b[2K\u001b[1G⠋ \u001b[?25h\u001b[?25l\u001b[2K\u001b[1G⠙ \u001b[?25h\u001b[?25l\u001b[2K\u001b[1G⠹ \u001b[?25h\u001b[?25l\u001b[2K\u001b[1G⠸ \u001b[?25h\u001b[?25l\u001b[2K\u001b[1G⠼ \u001b[?25h\u001b[?25l\u001b[2K\u001b[1G⠼ \u001b[?25h\u001b[?25l\u001b[2K\u001b[1G⠦ \u001b[?25h\u001b[?25l\u001b[2K\u001b[1G⠧ \u001b[?25h\u001b[?25l\u001b[2K\u001b[1G⠇ \u001b[?25h\u001b[?25l\u001b[2K\u001b[1G⠏ \u001b[?25h\u001b[?25l\u001b[2K\u001b[1G⠋ \u001b[?25h\u001b[?25l\u001b[2K\u001b[1G⠙ \u001b[?25h\u001b[?25l\u001b[2K\u001b[1G⠹ \u001b[?25h\u001b[?25l\u001b[2K\u001b[1G⠸ \u001b[?25h\u001b[?25l\u001b[2K\u001b[1G⠼ \u001b[?25h\u001b[?25l\u001b[2K\u001b[1G⠼ \u001b[?25h\u001b[?25l\u001b[2K\u001b[1G⠦ \u001b[?25h\u001b[?25l\u001b[2K\u001b[1G⠧ \u001b[?25h\u001b[?25l\u001b[2K\u001b[1G⠧ \u001b[?25h\u001b[?25l\u001b[2K\u001b[1G⠏ \u001b[?25h\u001b[?25l\u001b[2K\u001b[1G⠋ \u001b[?25h\u001b[?25l\u001b[2K\u001b[1G⠙ \u001b[?25h\u001b[?25l\u001b[2K\u001b[1G⠹ \u001b[?25h\u001b[?25l\u001b[2K\u001b[1G⠸ \u001b[?25h\u001b[?25l\u001b[2K\u001b[1G⠼ \u001b[?25h\u001b[?25l\u001b[2K\u001b[1G⠼ \u001b[?25h\u001b[?25l\u001b[2K\u001b[1G⠴ \u001b[?25h\u001b[?25l\u001b[2K\u001b[1G⠧ \u001b[?25h\u001b[?25l\u001b[2K\u001b[1G⠇ \u001b[?25h\u001b[?25l\u001b[2K\u001b[1G⠏ \u001b[?25h\u001b[?25l\u001b[2K\u001b[1G⠏ \u001b[?25h\u001b[?25l\u001b[2K\u001b[1G⠙ \u001b[?25h\u001b[?25l\u001b[2K\u001b[1G⠹ \u001b[?25h\u001b[?25l\u001b[2K\u001b[1G⠸ \u001b[?25h\u001b[?25l\u001b[2K\u001b[1G⠼ \u001b[?25h\u001b[?25l\u001b[2K\u001b[1G⠼ \u001b[?25h\u001b[?25l\u001b[2K\u001b[1G⠦ \u001b[?25h\u001b[?25l\u001b[2K\u001b[1G⠧ \u001b[?25h\u001b[?25l\u001b[2K\u001b[1G⠧ \u001b[?25h\u001b[?25l\u001b[2K\u001b[1G⠏ \u001b[?25h\u001b[?25l\u001b[2K\u001b[1G⠋ \u001b[?25h\u001b[?25l\u001b[2K\u001b[1G⠙ \u001b[?25h\u001b[?25l\u001b[2K\u001b[1G⠹ \u001b[?25h\u001b[?25l\u001b[2K\u001b[1G⠸ \u001b[?25h\u001b[?25l\u001b[2K\u001b[1G⠼ \u001b[?25h\u001b[?25l\u001b[2K\u001b[1G⠴ \u001b[?25h\u001b[?25l\u001b[2K\u001b[1G⠦ \u001b[?25h\u001b[?25l\u001b[2K\u001b[1G⠧ \u001b[?25h\u001b[?25l\u001b[2K\u001b[1G⠇ \u001b[?25h\u001b[?25l\u001b[2K\u001b[1G⠏ \u001b[?25h\u001b[?25l\u001b[2K\u001b[1G⠏ \u001b[?25h\u001b[?25l\u001b[2K\u001b[1G⠙ \u001b[?25h\u001b[?25l\u001b[2K\u001b[1G⠹ \u001b[?25h\u001b[?25l\u001b[2K\u001b[1G⠸ \u001b[?25h\u001b[?25l\u001b[2K\u001b[1G⠸ \u001b[?25h\u001b[?25l\u001b[2K\u001b[1G⠼ \u001b[?25h\u001b[?25l\u001b[2K\u001b[1G⠦ \u001b[?25h\u001b[?25l\u001b[2K\u001b[1G⠧ \u001b[?25h\u001b[?25l\u001b[2K\u001b[1G⠇ \u001b[?25h\u001b[?25l\u001b[2K\u001b[1G⠏ \u001b[?25h\u001b[?25l\u001b[2K\u001b[1G⠋ \u001b[?25h\u001b[?25l\u001b[2K\u001b[1G⠙ \u001b[?25h\u001b[?25l\u001b[2K\u001b[1G⠹ \u001b[?25h\u001b[?25l\u001b[2K\u001b[1G⠸ \u001b[?25h\u001b[?25l\u001b[2K\u001b[1G⠼ \u001b[?25h\u001b[?25l\u001b[2K\u001b[1G⠴ \u001b[?25h\u001b[?25l\u001b[2K\u001b[1G⠦ \u001b[?25h\u001b[?25l\u001b[2K\u001b[1G⠧ \u001b[?25h\u001b[?25l\u001b[2K\u001b[1G⠇ \u001b[?25h\u001b[?25l\u001b[2K\u001b[1G⠏ \u001b[?25h\u001b[?25l\u001b[2K\u001b[1G⠋ \u001b[?25h\u001b[?25l\u001b[2K\u001b[1G⠙ \u001b[?25h\u001b[?25l\u001b[2K\u001b[1G⠹ \u001b[?25h\u001b[?25l\u001b[2K\u001b[1G⠸ \u001b[?25h\u001b[?25l\u001b[2K\u001b[1G⠼ \u001b[?25h\u001b[?25l\u001b[2K\u001b[1G⠴ \u001b[?25h\u001b[?25l\u001b[2K\u001b[1G⠦ \u001b[?25h\u001b[?25l\u001b[2K\u001b[1G⠧ \u001b[?25h\u001b[?25l\u001b[2K\u001b[1G⠇ \u001b[?25h\u001b[?25l\u001b[2K\u001b[1G⠏ \u001b[?25h\u001b[?25l\u001b[2K\u001b[1G⠋ \u001b[?25h\u001b[?25l\u001b[2K\u001b[1G⠙ \u001b[?25h\u001b[?25l\u001b[2K\u001b[1G⠹ \u001b[?25h\u001b[?25l\u001b[2K\u001b[1G⠸ \u001b[?25h\u001b[?25l\u001b[2K\u001b[1G⠼ \u001b[?25h\u001b[?25l\u001b[2K\u001b[1G⠦ \u001b[?25h\u001b[?25l\u001b[2K\u001b[1G⠹ \u001b[?25h\u001b[?25l\u001b[2K\u001b[1G⠸ \u001b[?25h\u001b[?25l\u001b[2K\u001b[1G⠼ \u001b[?25h\u001b[?25l\u001b[2K\u001b[1G⠧ \u001b[?25h\u001b[?25l\u001b[2K\u001b[1G⠧ \u001b[?25h\u001b[?25l\u001b[2K\u001b[1G⠇ \u001b[?25h\u001b[?25l\u001b[2K\u001b[1G⠇ \u001b[?25h\u001b[?25l\u001b[2K\u001b[1G⠋ \u001b[?25h\u001b[?25l\u001b[2K\u001b[1G⠙ \u001b[?25h\u001b[?25l\u001b[2K\u001b[1G⠹ \u001b[?25h\u001b[?25l\u001b[2K\u001b[1G⠸ \u001b[?25h\u001b[?25l\u001b[2K\u001b[1G⠸ \u001b[?25h\u001b[?25l\u001b[2K\u001b[1G⠴ \u001b[?25h\u001b[?25l\u001b[2K\u001b[1G⠦ \u001b[?25h\u001b[?25l\u001b[2K\u001b[1G⠧ \u001b[?25h\u001b[?25l\u001b[2K\u001b[1G⠇ \u001b[?25h\u001b[?25l\u001b[?25l\u001b[2K\u001b[1G\u001b[?25h\u001b[2K\u001b[1G\u001b[?25h\n",
      "\u001b[?25l\u001b[?25hThe\u001b[?25l\u001b[?25h capital\u001b[?25l\u001b[?25h of\u001b[?25l\u001b[?25h Italy\u001b[?25l\u001b[?25h is\u001b[?25l\u001b[?25h Rome\u001b[?25l\u001b[?25h (\u001b[?25l\u001b[?25hR\u001b[?25l\u001b[?25homa\u001b[?25l\u001b[?25h in\u001b[?25l\u001b[?25h Italian\u001b[?25l\u001b[?25h).\u001b[?25l\u001b[?25h\n",
      "\n",
      "\u001b[?25l\u001b[?25h"
     ]
    }
   ],
   "source": [
    "!ollama run llama2:latest \"  capital of italy \"\n"
   ]
  },
  {
   "cell_type": "code",
   "execution_count": null,
   "metadata": {},
   "outputs": [],
   "source": [
    "!ollama run llama2:latest \" what is the capital of italy \""
   ]
  },
  {
   "cell_type": "code",
   "execution_count": 20,
   "metadata": {},
   "outputs": [
    {
     "name": "stdout",
     "output_type": "stream",
     "text": [
      "(['\\x1b[?25l⠙ \\x1b[?25h\\x1b[?25l\\x1b[2K\\x1b[1G⠹ \\x1b[?25h\\x1b[?25l\\x1b[2K\\x1b[1G⠸ \\x1b[?25h\\x1b[?25l\\x1b[2K\\x1b[1G⠼ \\x1b[?25h\\x1b[?25l\\x1b[2K\\x1b[1G⠴ \\x1b[?25h\\x1b[?25l\\x1b[2K\\x1b[1G⠦ \\x1b[?25h\\x1b[?25l\\x1b[2K\\x1b[1G⠧ \\x1b[?25h\\x1b[?25l\\x1b[2K\\x1b[1G⠇ \\x1b[?25h\\x1b[?25l\\x1b[2K\\x1b[1G⠏ \\x1b[?25h\\x1b[?25l\\x1b[2K\\x1b[1G⠋ \\x1b[?25h\\x1b[?25l\\x1b[2K\\x1b[1G⠙ \\x1b[?25h\\x1b[?25l\\x1b[2K\\x1b[1G⠹ \\x1b[?25h\\x1b[?25l\\x1b[2K\\x1b[1G⠸ \\x1b[?25h\\x1b[?25l\\x1b[2K\\x1b[1G⠼ \\x1b[?25h\\x1b[?25l\\x1b[2K\\x1b[1G⠴ \\x1b[?25h\\x1b[?25l\\x1b[2K\\x1b[1G⠦ \\x1b[?25h\\x1b[?25l\\x1b[2K\\x1b[1G⠧ \\x1b[?25h\\x1b[?25l\\x1b[2K\\x1b[1G⠇ \\x1b[?25h\\x1b[?25l\\x1b[2K\\x1b[1G⠏ \\x1b[?25h\\x1b[?25l\\x1b[2K\\x1b[1G⠋ \\x1b[?25h\\x1b[?25l\\x1b[2K\\x1b[1G⠙ \\x1b[?25h\\x1b[?25l\\x1b[2K\\x1b[1G⠹ \\x1b[?25h\\x1b[?25l\\x1b[2K\\x1b[1G⠸ \\x1b[?25h\\x1b[?25l\\x1b[2K\\x1b[1G⠼ \\x1b[?25h\\x1b[?25l\\x1b[2K\\x1b[1G⠴ \\x1b[?25h\\x1b[?25l\\x1b[2K\\x1b[1G⠦ \\x1b[?25h\\x1b[?25l\\x1b[2K\\x1b[1G⠧ \\x1b[?25h\\x1b[?25l\\x1b[2K\\x1b[1G⠇ \\x1b[?25h\\x1b[?25l\\x1b[2K\\x1b[1G⠏ \\x1b[?25h\\x1b[?25l\\x1b[2K\\x1b[1G⠋ \\x1b[?25h\\x1b[?25l\\x1b[2K\\x1b[1G⠙ \\x1b[?25h\\x1b[?25l\\x1b[2K\\x1b[1G⠹ \\x1b[?25h\\x1b[?25l\\x1b[2K\\x1b[1G⠸ \\x1b[?25h\\x1b[?25l\\x1b[2K\\x1b[1G⠼ \\x1b[?25h\\x1b[?25l\\x1b[2K\\x1b[1G⠴ \\x1b[?25h\\x1b[?25l\\x1b[2K\\x1b[1G⠦ \\x1b[?25h\\x1b[?25l\\x1b[2K\\x1b[1G⠧ \\x1b[?25h\\x1b[?25l\\x1b[2K\\x1b[1G⠇ \\x1b[?25h\\x1b[?25l\\x1b[2K\\x1b[1G⠏ \\x1b[?25h\\x1b[?25l\\x1b[2K\\x1b[1G⠋ \\x1b[?25h\\x1b[?25l\\x1b[2K\\x1b[1G⠙ \\x1b[?25h\\x1b[?25l\\x1b[2K\\x1b[1G⠹ \\x1b[?25h\\x1b[?25l\\x1b[2K\\x1b[1G⠸ \\x1b[?25h\\x1b[?25l\\x1b[2K\\x1b[1G⠼ \\x1b[?25h\\x1b[?25l\\x1b[2K\\x1b[1G⠴ \\x1b[?25h\\x1b[?25l\\x1b[2K\\x1b[1G⠦ \\x1b[?25h\\x1b[?25l\\x1b[2K\\x1b[1G⠧ \\x1b[?25h\\x1b[?25l\\x1b[2K\\x1b[1G⠇ \\x1b[?25h\\x1b[?25l\\x1b[2K\\x1b[1G⠏ \\x1b[?25h\\x1b[?25l\\x1b[2K\\x1b[1G⠋ \\x1b[?25h\\x1b[?25l\\x1b[2K\\x1b[1G⠙ \\x1b[?25h\\x1b[?25l\\x1b[2K\\x1b[1G⠹ \\x1b[?25h\\x1b[?25l\\x1b[2K\\x1b[1G⠸ \\x1b[?25h\\x1b[?25l\\x1b[2K\\x1b[1G⠼ \\x1b[?25h\\x1b[?25l\\x1b[2K\\x1b[1G⠴ \\x1b[?25h\\x1b[?25l\\x1b[2K\\x1b[1G⠦ \\x1b[?25h\\x1b[?25l\\x1b[2K\\x1b[1G⠧ \\x1b[?25h\\x1b[?25l\\x1b[2K\\x1b[1G⠇ \\x1b[?25h\\x1b[?25l\\x1b[2K\\x1b[1G⠏ \\x1b[?25h\\x1b[?25l\\x1b[2K\\x1b[1G⠋ \\x1b[?25h\\x1b[?25l\\x1b[2K\\x1b[1G⠙ \\x1b[?25h\\x1b[?25l\\x1b[2K\\x1b[1G⠹ \\x1b[?25h\\x1b[?25l\\x1b[2K\\x1b[1G⠸ \\x1b[?25h\\x1b[?25l\\x1b[2K\\x1b[1G⠼ \\x1b[?25h\\x1b[?25l\\x1b[2K\\x1b[1G⠴ \\x1b[?25h\\x1b[?25l\\x1b[2K\\x1b[1G⠦ \\x1b[?25h\\x1b[?25l\\x1b[2K\\x1b[1G⠧ \\x1b[?25h\\x1b[?25l\\x1b[2K\\x1b[1G⠇ \\x1b[?25h\\x1b[?25l\\x1b[2K\\x1b[1G⠏ \\x1b[?25h\\x1b[?25l\\x1b[2K\\x1b[1G⠋ \\x1b[?25h\\x1b[?25l\\x1b[2K\\x1b[1G⠙ \\x1b[?25h\\x1b[?25l\\x1b[2K\\x1b[1G⠹ \\x1b[?25h\\x1b[?25l\\x1b[2K\\x1b[1G⠸ \\x1b[?25h\\x1b[?25l\\x1b[2K\\x1b[1G⠼ \\x1b[?25h\\x1b[?25l\\x1b[2K\\x1b[1G⠴ \\x1b[?25h\\x1b[?25l\\x1b[2K\\x1b[1G⠦ \\x1b[?25h\\x1b[?25l\\x1b[2K\\x1b[1G⠧ \\x1b[?25h\\x1b[?25l\\x1b[2K\\x1b[1G⠇ \\x1b[?25h\\x1b[?25l\\x1b[2K\\x1b[1G⠏ \\x1b[?25h\\x1b[?25l\\x1b[2K\\x1b[1G⠋ \\x1b[?25h\\x1b[?25l\\x1b[2K\\x1b[1G⠙ \\x1b[?25h\\x1b[?25l\\x1b[2K\\x1b[1G⠹ \\x1b[?25h\\x1b[?25l\\x1b[2K\\x1b[1G⠸ \\x1b[?25h\\x1b[?25l\\x1b[2K\\x1b[1G⠼ \\x1b[?25h\\x1b[?25l\\x1b[2K\\x1b[1G⠴ \\x1b[?25h\\x1b[?25l\\x1b[2K\\x1b[1G⠦ \\x1b[?25h\\x1b[?25l\\x1b[2K\\x1b[1G⠧ \\x1b[?25h\\x1b[?25l\\x1b[2K\\x1b[1G⠇ \\x1b[?25h\\x1b[?25l\\x1b[2K\\x1b[1G⠏ \\x1b[?25h\\x1b[?25l\\x1b[2K\\x1b[1G⠋ \\x1b[?25h\\x1b[?25l\\x1b[2K\\x1b[1G⠏ \\x1b[?25h\\x1b[?25l\\x1b[2K\\x1b[1G⠋ \\x1b[?25h\\x1b[?25l\\x1b[2K\\x1b[1G⠦ \\x1b[?25h\\x1b[?25l\\x1b[2K\\x1b[1G⠦ \\x1b[?25h\\x1b[?25l\\x1b[2K\\x1b[1G⠧ \\x1b[?25h\\x1b[?25l\\x1b[2K\\x1b[1G⠇ \\x1b[?25h\\x1b[?25l\\x1b[2K\\x1b[1G⠋ \\x1b[?25h\\x1b[?25l\\x1b[2K\\x1b[1G⠋ \\x1b[?25h\\x1b[?25l\\x1b[2K\\x1b[1G⠙ \\x1b[?25h\\x1b[?25l\\x1b[2K\\x1b[1G⠹ \\x1b[?25h\\x1b[?25l\\x1b[2K\\x1b[1G⠸ \\x1b[?25h\\x1b[?25l\\x1b[2K\\x1b[1G⠼ \\x1b[?25h\\x1b[?25l\\x1b[?25l\\x1b[2K\\x1b[1G\\x1b[?25h\\x1b[2K\\x1b[1G\\x1b[?25h', '\\x1b[?25l\\x1b[?25hThe\\x1b[?25l\\x1b[?25h capital\\x1b[?25l\\x1b[?25h of\\x1b[?25l\\x1b[?25h Italy\\x1b[?25l\\x1b[?25h is\\x1b[?25l\\x1b[?25h Rome\\x1b[?25l\\x1b[?25h (\\x1b[?25l\\x1b[?25hR\\x1b[?25l\\x1b[?25homa\\x1b[?25l\\x1b[?25h in\\x1b[?25l\\x1b[?25h Italian\\x1b[?25l\\x1b[?25h).\\x1b[?25l\\x1b[?25h', '', '\\x1b[?25l\\x1b[?25h'], 13.084671020507812, 18.1, 99.3)\n"
     ]
    }
   ],
   "source": [
    "import time\n",
    "import psutil\n",
    "\n",
    "\n",
    "\n",
    "def output():\n",
    "    \n",
    "    prompt = \"\"\" Question: capital of italy\"\"\"\n",
    "\n",
    "    start_time = time.time()\n",
    "    \n",
    "    response = !ollama run llama2:latest \"  capital of italy \"\n",
    "    \n",
    "    end_time = time.time()\n",
    "\n",
    "\n",
    "    response_time = end_time - start_time\n",
    "\n",
    "\n",
    "    cpu_usage = psutil.cpu_percent()\n",
    "    \n",
    "    memory_usage = psutil.virtual_memory().percent\n",
    "    \n",
    "    with open(\"resource_usage.txt\", \"a\") as file:\n",
    "        file.write(f\"Response Time (seconds): {response_time}\\n\")\n",
    "        file.write(f\"CPU Usage (%): {cpu_usage}\\n\")\n",
    "        file.write(f\"Memory Usage (%): {memory_usage}\\n\")\n",
    "        file.write(\"\\n\") \n",
    "        \n",
    "    return response, response_time, cpu_usage, memory_usage\n",
    "\n",
    "\n",
    "responce = output()\n",
    "\n",
    "print(responce)"
   ]
  },
  {
   "cell_type": "code",
   "execution_count": 22,
   "metadata": {},
   "outputs": [
    {
     "name": "stdout",
     "output_type": "stream",
     "text": [
      "(['⠙ ⠹ ⠸ ⠼ ⠴ ⠦ ⠧ ⠇ ⠏ ⠋ ⠙ ⠹ ⠸ ⠼ ⠴ ⠦ ⠧ ⠇ ⠏ ⠋ ⠙ ⠹ ⠸ ⠼ ⠴ ⠦ ⠧ ⠇ ⠏ ⠋ ⠙ ⠹ ⠸ ⠼ ⠴ ⠦ ⠧ ⠇ ⠏ ⠋ ⠙ ⠹ ⠸ ⠼ ⠴ ⠦ ⠧ ⠇ ⠏ ⠋ ⠙ ⠹ ⠸ ⠼ ⠴ ⠦ ⠧ ⠇ ⠏ ⠋ ⠙ ⠹ ⠸ ⠼ ⠴ ⠦ ⠧ ⠇ ⠏ ⠋ ⠙ ⠹ ⠸ ⠼ ⠴ ⠦ ⠧ ⠇ ⠏ ⠋ ⠙ ⠹ ⠸ ⠼ ⠴ ⠦ ⠧ ⠇ ⠏ ⠋ ⠙ ⠹ ⠸ ⠼ ⠴ ⠦ ⠧ ⠇ ⠏ ⠋ ⠙ ⠹ ⠸ ⠼ ⠴ ⠦ ⠧ ⠇ ⠏ ⠋ ⠙ ⠹ ⠸ ⠼ ⠴', 'The capital of Italy is Rome (Roma in Italian).', '', ''], 13.41598105430603, 28.9, 99.2)\n"
     ]
    }
   ],
   "source": [
    "import re\n",
    "import subprocess\n",
    "import time\n",
    "import psutil\n",
    "\n",
    "\n",
    "def output():\n",
    "\n",
    "    start_time = time.time()\n",
    "\n",
    "    prompts = [\"What is the capital of italy ?\"]\n",
    "    responce = [ ]\n",
    "    for prompt in prompts:\n",
    "        responce.append(!ollama run phi:latest prompt)\n",
    "        print(f\"Prompt: {prompt}\")\n",
    "        print(f\"Response: {response}\")\n",
    "        print(\"-\" * 20)  # Separator\n",
    "    end_time = time.time()\n",
    "    response_time = end_time - start_time\n",
    "\n",
    "    # Remove escape sequences and strip whitespace from the response\n",
    "    clean_response = [re.sub(r'\\x1b\\[[0-?]*[ -/]*[@-~]', '', line).strip() for line in response]\n",
    "\n",
    "    cpu_usage = psutil.cpu_percent()\n",
    "    \n",
    "    memory_usage = psutil.virtual_memory().percent\n",
    "    \n",
    "    with open(\"resource_usage.txt\", \"a\") as file:\n",
    "        file.write(f\"Response Time (seconds): {response_time}\\n\")\n",
    "        file.write(f\"CPU Usage (%): {cpu_usage}\\n\")\n",
    "        file.write(f\"Memory Usage (%): {memory_usage}\\n\")\n",
    "        file.write(\"\\n\") \n",
    "        \n",
    "    return clean_response, response_time, cpu_usage, memory_usage\n",
    "\n",
    "response = output()\n",
    "\n",
    "print(response)\n"
   ]
  },
  {
   "cell_type": "code",
   "execution_count": 2,
   "metadata": {},
   "outputs": [
    {
     "ename": "KeyboardInterrupt",
     "evalue": "",
     "output_type": "error",
     "traceback": [
      "\u001b[0;31m---------------------------------------------------------------------------\u001b[0m",
      "\u001b[0;31mKeyboardInterrupt\u001b[0m                         Traceback (most recent call last)",
      "Cell \u001b[0;32mIn[2], line 36\u001b[0m\n\u001b[1;32m     32\u001b[0m         file\u001b[39m.\u001b[39mwrite(\u001b[39m\"\u001b[39m\u001b[39m\\n\u001b[39;00m\u001b[39m\"\u001b[39m) \n\u001b[1;32m     34\u001b[0m     \u001b[39mreturn\u001b[39;00m responce, response_time, cpu_usage, memory_usage\n\u001b[0;32m---> 36\u001b[0m response \u001b[39m=\u001b[39m output()\n\u001b[1;32m     38\u001b[0m \u001b[39mprint\u001b[39m(response)\n",
      "Cell \u001b[0;32mIn[2], line 16\u001b[0m, in \u001b[0;36moutput\u001b[0;34m()\u001b[0m\n\u001b[1;32m     14\u001b[0m \u001b[39mfor\u001b[39;00m prompt \u001b[39min\u001b[39;00m prompts:\n\u001b[1;32m     15\u001b[0m     command \u001b[39m=\u001b[39m \u001b[39mf\u001b[39m\u001b[39m\"\u001b[39m\u001b[39mollama run llama2:latest \u001b[39m\u001b[39m'\u001b[39m\u001b[39m{\u001b[39;00mprompt\u001b[39m}\u001b[39;00m\u001b[39m'\u001b[39m\u001b[39m\"\u001b[39m\n\u001b[0;32m---> 16\u001b[0m     response \u001b[39m=\u001b[39m subprocess\u001b[39m.\u001b[39mrun(command, shell\u001b[39m=\u001b[39m\u001b[39mTrue\u001b[39;00m, capture_output\u001b[39m=\u001b[39m\u001b[39mTrue\u001b[39;00m, text\u001b[39m=\u001b[39m\u001b[39mTrue\u001b[39;00m)\u001b[39m.\u001b[39mstdout\n\u001b[1;32m     17\u001b[0m     responce\u001b[39m.\u001b[39mappend(response\u001b[39m.\u001b[39mstrip())\n\u001b[1;32m     18\u001b[0m     \u001b[39mprint\u001b[39m(\u001b[39mf\u001b[39m\u001b[39m\"\u001b[39m\u001b[39mPrompt: \u001b[39m\u001b[39m{\u001b[39;00mprompt\u001b[39m}\u001b[39;00m\u001b[39m\"\u001b[39m)\n",
      "File \u001b[0;32m~/opt/anaconda3/envs/llms/lib/python3.11/subprocess.py:548\u001b[0m, in \u001b[0;36mrun\u001b[0;34m(input, capture_output, timeout, check, *popenargs, **kwargs)\u001b[0m\n\u001b[1;32m    546\u001b[0m \u001b[39mwith\u001b[39;00m Popen(\u001b[39m*\u001b[39mpopenargs, \u001b[39m*\u001b[39m\u001b[39m*\u001b[39mkwargs) \u001b[39mas\u001b[39;00m process:\n\u001b[1;32m    547\u001b[0m     \u001b[39mtry\u001b[39;00m:\n\u001b[0;32m--> 548\u001b[0m         stdout, stderr \u001b[39m=\u001b[39m process\u001b[39m.\u001b[39mcommunicate(\u001b[39minput\u001b[39m, timeout\u001b[39m=\u001b[39mtimeout)\n\u001b[1;32m    549\u001b[0m     \u001b[39mexcept\u001b[39;00m TimeoutExpired \u001b[39mas\u001b[39;00m exc:\n\u001b[1;32m    550\u001b[0m         process\u001b[39m.\u001b[39mkill()\n",
      "File \u001b[0;32m~/opt/anaconda3/envs/llms/lib/python3.11/subprocess.py:1205\u001b[0m, in \u001b[0;36mPopen.communicate\u001b[0;34m(self, input, timeout)\u001b[0m\n\u001b[1;32m   1202\u001b[0m     endtime \u001b[39m=\u001b[39m \u001b[39mNone\u001b[39;00m\n\u001b[1;32m   1204\u001b[0m \u001b[39mtry\u001b[39;00m:\n\u001b[0;32m-> 1205\u001b[0m     stdout, stderr \u001b[39m=\u001b[39m \u001b[39mself\u001b[39m\u001b[39m.\u001b[39m_communicate(\u001b[39minput\u001b[39m, endtime, timeout)\n\u001b[1;32m   1206\u001b[0m \u001b[39mexcept\u001b[39;00m \u001b[39mKeyboardInterrupt\u001b[39;00m:\n\u001b[1;32m   1207\u001b[0m     \u001b[39m# https://bugs.python.org/issue25942\u001b[39;00m\n\u001b[1;32m   1208\u001b[0m     \u001b[39m# See the detailed comment in .wait().\u001b[39;00m\n\u001b[1;32m   1209\u001b[0m     \u001b[39mif\u001b[39;00m timeout \u001b[39mis\u001b[39;00m \u001b[39mnot\u001b[39;00m \u001b[39mNone\u001b[39;00m:\n",
      "File \u001b[0;32m~/opt/anaconda3/envs/llms/lib/python3.11/subprocess.py:2057\u001b[0m, in \u001b[0;36mPopen._communicate\u001b[0;34m(self, input, endtime, orig_timeout)\u001b[0m\n\u001b[1;32m   2050\u001b[0m     \u001b[39mself\u001b[39m\u001b[39m.\u001b[39m_check_timeout(endtime, orig_timeout,\n\u001b[1;32m   2051\u001b[0m                         stdout, stderr,\n\u001b[1;32m   2052\u001b[0m                         skip_check_and_raise\u001b[39m=\u001b[39m\u001b[39mTrue\u001b[39;00m)\n\u001b[1;32m   2053\u001b[0m     \u001b[39mraise\u001b[39;00m \u001b[39mRuntimeError\u001b[39;00m(  \u001b[39m# Impossible :)\u001b[39;00m\n\u001b[1;32m   2054\u001b[0m         \u001b[39m'\u001b[39m\u001b[39m_check_timeout(..., skip_check_and_raise=True) \u001b[39m\u001b[39m'\u001b[39m\n\u001b[1;32m   2055\u001b[0m         \u001b[39m'\u001b[39m\u001b[39mfailed to raise TimeoutExpired.\u001b[39m\u001b[39m'\u001b[39m)\n\u001b[0;32m-> 2057\u001b[0m ready \u001b[39m=\u001b[39m selector\u001b[39m.\u001b[39mselect(timeout)\n\u001b[1;32m   2058\u001b[0m \u001b[39mself\u001b[39m\u001b[39m.\u001b[39m_check_timeout(endtime, orig_timeout, stdout, stderr)\n\u001b[1;32m   2060\u001b[0m \u001b[39m# XXX Rewrite these to use non-blocking I/O on the file\u001b[39;00m\n\u001b[1;32m   2061\u001b[0m \u001b[39m# objects; they are no longer using C stdio!\u001b[39;00m\n",
      "File \u001b[0;32m~/opt/anaconda3/envs/llms/lib/python3.11/selectors.py:415\u001b[0m, in \u001b[0;36m_PollLikeSelector.select\u001b[0;34m(self, timeout)\u001b[0m\n\u001b[1;32m    413\u001b[0m ready \u001b[39m=\u001b[39m []\n\u001b[1;32m    414\u001b[0m \u001b[39mtry\u001b[39;00m:\n\u001b[0;32m--> 415\u001b[0m     fd_event_list \u001b[39m=\u001b[39m \u001b[39mself\u001b[39m\u001b[39m.\u001b[39m_selector\u001b[39m.\u001b[39mpoll(timeout)\n\u001b[1;32m    416\u001b[0m \u001b[39mexcept\u001b[39;00m \u001b[39mInterruptedError\u001b[39;00m:\n\u001b[1;32m    417\u001b[0m     \u001b[39mreturn\u001b[39;00m ready\n",
      "\u001b[0;31mKeyboardInterrupt\u001b[0m: "
     ]
    }
   ],
   "source": [
    "# multiple promts \n",
    "\n",
    "import re\n",
    "import subprocess\n",
    "import time\n",
    "import psutil\n",
    "\n",
    "def output():\n",
    "    start_time = time.time()\n",
    "    \n",
    "    prompts = [\"What is the capital of Italy?\", \"Write a 6 line poem.\", \"What are LLM models?\"]\n",
    "    responce = []\n",
    "\n",
    "    for prompt in prompts:\n",
    "        command = f\"ollama run llama2:latest '{prompt}'\"\n",
    "        response = subprocess.run(command, shell=True, capture_output=True, text=True).stdout\n",
    "        responce.append(response.strip())\n",
    "        print(f\"Prompt: {prompt}\")\n",
    "        print(f\"Response: {response}\")\n",
    "        print(\"-\" * 20)  # Separator\n",
    "    \n",
    "    end_time = time.time()\n",
    "    response_time = end_time - start_time\n",
    "\n",
    "    cpu_usage = psutil.cpu_percent()\n",
    "    memory_usage = psutil.virtual_memory().percent\n",
    "    \n",
    "    with open(\"resource_usage.txt\", \"a\") as file:\n",
    "        file.write(f\"Response Time (seconds): {response_time}\\n\")\n",
    "        file.write(f\"CPU Usage (%): {cpu_usage}\\n\")\n",
    "        file.write(f\"Memory Usage (%): {memory_usage}\\n\")\n",
    "        file.write(\"\\n\") \n",
    "        \n",
    "    return responce, response_time, cpu_usage, memory_usage\n",
    "\n",
    "response = output()\n",
    "\n",
    "print(response)\n"
   ]
  },
  {
   "cell_type": "code",
   "execution_count": null,
   "metadata": {},
   "outputs": [],
   "source": []
  }
 ],
 "metadata": {
  "kernelspec": {
   "display_name": "llms",
   "language": "python",
   "name": "python3"
  },
  "language_info": {
   "codemirror_mode": {
    "name": "ipython",
    "version": 3
   },
   "file_extension": ".py",
   "mimetype": "text/x-python",
   "name": "python",
   "nbconvert_exporter": "python",
   "pygments_lexer": "ipython3",
   "version": "3.11.0 (main, Mar  1 2023, 12:49:28) [Clang 14.0.6 ]"
  },
  "orig_nbformat": 4,
  "vscode": {
   "interpreter": {
    "hash": "0df86693d46cb4fa165d42afe4c34e25eb5aee45096910808bcdd8709ee78db2"
   }
  }
 },
 "nbformat": 4,
 "nbformat_minor": 2
}
